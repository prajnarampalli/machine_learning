{
  "nbformat": 4,
  "nbformat_minor": 0,
  "metadata": {
    "colab": {
      "provenance": [],
      "authorship_tag": "ABX9TyN5xYhNVd/bPKZmKX7K6VPf",
      "include_colab_link": true
    },
    "kernelspec": {
      "name": "python3",
      "display_name": "Python 3"
    },
    "language_info": {
      "name": "python"
    }
  },
  "cells": [
    {
      "cell_type": "markdown",
      "metadata": {
        "id": "view-in-github",
        "colab_type": "text"
      },
      "source": [
        "<a href=\"https://colab.research.google.com/github/prajnarampalli/machine_learning/blob/main/classification_randomforest.ipynb\" target=\"_parent\"><img src=\"https://colab.research.google.com/assets/colab-badge.svg\" alt=\"Open In Colab\"/></a>"
      ]
    },
    {
      "cell_type": "markdown",
      "source": [
        "importing libraries"
      ],
      "metadata": {
        "id": "a_RKH1xBll3x"
      }
    },
    {
      "cell_type": "code",
      "execution_count": 2,
      "metadata": {
        "id": "b1M4sxP9fkjV"
      },
      "outputs": [],
      "source": [
        "from sklearn import datasets\n",
        "from sklearn.model_selection import train_test_split\n",
        "from sklearn.ensemble import RandomForestClassifier\n",
        "from sklearn.datasets import make_classification"
      ]
    },
    {
      "cell_type": "markdown",
      "source": [
        "loading data"
      ],
      "metadata": {
        "id": "PPvudYqJlqzF"
      }
    },
    {
      "cell_type": "code",
      "source": [
        "iris = datasets.load_iris()"
      ],
      "metadata": {
        "id": "Lpmwqqtwf8c2"
      },
      "execution_count": 3,
      "outputs": []
    },
    {
      "cell_type": "markdown",
      "source": [
        "printing the feautures names(input values)"
      ],
      "metadata": {
        "id": "G1g9V3I6ls57"
      }
    },
    {
      "cell_type": "code",
      "source": [
        "print(iris.feature_names)"
      ],
      "metadata": {
        "colab": {
          "base_uri": "https://localhost:8080/"
        },
        "id": "tlhCjuqBgT_5",
        "outputId": "f0d22417-666a-4efc-fbd1-ddee58c15186"
      },
      "execution_count": 6,
      "outputs": [
        {
          "output_type": "stream",
          "name": "stdout",
          "text": [
            "['sepal length (cm)', 'sepal width (cm)', 'petal length (cm)', 'petal width (cm)']\n"
          ]
        }
      ]
    },
    {
      "cell_type": "markdown",
      "source": [
        "printing the target values (the output values)"
      ],
      "metadata": {
        "id": "r1_ytkW5lyTe"
      }
    },
    {
      "cell_type": "code",
      "source": [
        "print(iris.target_names)"
      ],
      "metadata": {
        "colab": {
          "base_uri": "https://localhost:8080/"
        },
        "id": "GG0zDfuSga_u",
        "outputId": "967ed836-0e61-42d2-b6e1-8f6b3585dabb"
      },
      "execution_count": 7,
      "outputs": [
        {
          "output_type": "stream",
          "name": "stdout",
          "text": [
            "['setosa' 'versicolor' 'virginica']\n"
          ]
        }
      ]
    },
    {
      "cell_type": "markdown",
      "source": [
        "making both the input features and output features into a table"
      ],
      "metadata": {
        "id": "7n2ZLzSLl3qr"
      }
    },
    {
      "cell_type": "code",
      "source": [
        "import pandas as pd\n",
        "name = pd.DataFrame({'feature names':[iris.feature_names], 'target names':[iris.target_names]})\n",
        "name"
      ],
      "metadata": {
        "colab": {
          "base_uri": "https://localhost:8080/",
          "height": 318
        },
        "id": "DNpwMPtsgj22",
        "outputId": "c21c29b9-779f-40f7-8aa6-1e0775397d11"
      },
      "execution_count": 11,
      "outputs": [
        {
          "output_type": "execute_result",
          "data": {
            "text/plain": [
              "                                       feature names  \\\n",
              "0  [sepal length (cm), sepal width (cm), petal le...   \n",
              "\n",
              "                      target names  \n",
              "0  [setosa, versicolor, virginica]  "
            ],
            "text/html": [
              "\n",
              "  <div id=\"df-aef88120-cb62-413c-9d57-4fa33c53623c\" class=\"colab-df-container\">\n",
              "    <div>\n",
              "<style scoped>\n",
              "    .dataframe tbody tr th:only-of-type {\n",
              "        vertical-align: middle;\n",
              "    }\n",
              "\n",
              "    .dataframe tbody tr th {\n",
              "        vertical-align: top;\n",
              "    }\n",
              "\n",
              "    .dataframe thead th {\n",
              "        text-align: right;\n",
              "    }\n",
              "</style>\n",
              "<table border=\"1\" class=\"dataframe\">\n",
              "  <thead>\n",
              "    <tr style=\"text-align: right;\">\n",
              "      <th></th>\n",
              "      <th>feature names</th>\n",
              "      <th>target names</th>\n",
              "    </tr>\n",
              "  </thead>\n",
              "  <tbody>\n",
              "    <tr>\n",
              "      <th>0</th>\n",
              "      <td>[sepal length (cm), sepal width (cm), petal le...</td>\n",
              "      <td>[setosa, versicolor, virginica]</td>\n",
              "    </tr>\n",
              "  </tbody>\n",
              "</table>\n",
              "</div>\n",
              "    <div class=\"colab-df-buttons\">\n",
              "\n",
              "  <div class=\"colab-df-container\">\n",
              "    <button class=\"colab-df-convert\" onclick=\"convertToInteractive('df-aef88120-cb62-413c-9d57-4fa33c53623c')\"\n",
              "            title=\"Convert this dataframe to an interactive table.\"\n",
              "            style=\"display:none;\">\n",
              "\n",
              "  <svg xmlns=\"http://www.w3.org/2000/svg\" height=\"24px\" viewBox=\"0 -960 960 960\">\n",
              "    <path d=\"M120-120v-720h720v720H120Zm60-500h600v-160H180v160Zm220 220h160v-160H400v160Zm0 220h160v-160H400v160ZM180-400h160v-160H180v160Zm440 0h160v-160H620v160ZM180-180h160v-160H180v160Zm440 0h160v-160H620v160Z\"/>\n",
              "  </svg>\n",
              "    </button>\n",
              "\n",
              "  <style>\n",
              "    .colab-df-container {\n",
              "      display:flex;\n",
              "      gap: 12px;\n",
              "    }\n",
              "\n",
              "    .colab-df-convert {\n",
              "      background-color: #E8F0FE;\n",
              "      border: none;\n",
              "      border-radius: 50%;\n",
              "      cursor: pointer;\n",
              "      display: none;\n",
              "      fill: #1967D2;\n",
              "      height: 32px;\n",
              "      padding: 0 0 0 0;\n",
              "      width: 32px;\n",
              "    }\n",
              "\n",
              "    .colab-df-convert:hover {\n",
              "      background-color: #E2EBFA;\n",
              "      box-shadow: 0px 1px 2px rgba(60, 64, 67, 0.3), 0px 1px 3px 1px rgba(60, 64, 67, 0.15);\n",
              "      fill: #174EA6;\n",
              "    }\n",
              "\n",
              "    .colab-df-buttons div {\n",
              "      margin-bottom: 4px;\n",
              "    }\n",
              "\n",
              "    [theme=dark] .colab-df-convert {\n",
              "      background-color: #3B4455;\n",
              "      fill: #D2E3FC;\n",
              "    }\n",
              "\n",
              "    [theme=dark] .colab-df-convert:hover {\n",
              "      background-color: #434B5C;\n",
              "      box-shadow: 0px 1px 3px 1px rgba(0, 0, 0, 0.15);\n",
              "      filter: drop-shadow(0px 1px 2px rgba(0, 0, 0, 0.3));\n",
              "      fill: #FFFFFF;\n",
              "    }\n",
              "  </style>\n",
              "\n",
              "    <script>\n",
              "      const buttonEl =\n",
              "        document.querySelector('#df-aef88120-cb62-413c-9d57-4fa33c53623c button.colab-df-convert');\n",
              "      buttonEl.style.display =\n",
              "        google.colab.kernel.accessAllowed ? 'block' : 'none';\n",
              "\n",
              "      async function convertToInteractive(key) {\n",
              "        const element = document.querySelector('#df-aef88120-cb62-413c-9d57-4fa33c53623c');\n",
              "        const dataTable =\n",
              "          await google.colab.kernel.invokeFunction('convertToInteractive',\n",
              "                                                    [key], {});\n",
              "        if (!dataTable) return;\n",
              "\n",
              "        const docLinkHtml = 'Like what you see? Visit the ' +\n",
              "          '<a target=\"_blank\" href=https://colab.research.google.com/notebooks/data_table.ipynb>data table notebook</a>'\n",
              "          + ' to learn more about interactive tables.';\n",
              "        element.innerHTML = '';\n",
              "        dataTable['output_type'] = 'display_data';\n",
              "        await google.colab.output.renderOutput(dataTable, element);\n",
              "        const docLink = document.createElement('div');\n",
              "        docLink.innerHTML = docLinkHtml;\n",
              "        element.appendChild(docLink);\n",
              "      }\n",
              "    </script>\n",
              "  </div>\n",
              "\n",
              "\n",
              "  <div id=\"id_c9796159-4791-4c65-a802-8beadb337c57\">\n",
              "    <style>\n",
              "      .colab-df-generate {\n",
              "        background-color: #E8F0FE;\n",
              "        border: none;\n",
              "        border-radius: 50%;\n",
              "        cursor: pointer;\n",
              "        display: none;\n",
              "        fill: #1967D2;\n",
              "        height: 32px;\n",
              "        padding: 0 0 0 0;\n",
              "        width: 32px;\n",
              "      }\n",
              "\n",
              "      .colab-df-generate:hover {\n",
              "        background-color: #E2EBFA;\n",
              "        box-shadow: 0px 1px 2px rgba(60, 64, 67, 0.3), 0px 1px 3px 1px rgba(60, 64, 67, 0.15);\n",
              "        fill: #174EA6;\n",
              "      }\n",
              "\n",
              "      [theme=dark] .colab-df-generate {\n",
              "        background-color: #3B4455;\n",
              "        fill: #D2E3FC;\n",
              "      }\n",
              "\n",
              "      [theme=dark] .colab-df-generate:hover {\n",
              "        background-color: #434B5C;\n",
              "        box-shadow: 0px 1px 3px 1px rgba(0, 0, 0, 0.15);\n",
              "        filter: drop-shadow(0px 1px 2px rgba(0, 0, 0, 0.3));\n",
              "        fill: #FFFFFF;\n",
              "      }\n",
              "    </style>\n",
              "    <button class=\"colab-df-generate\" onclick=\"generateWithVariable('name')\"\n",
              "            title=\"Generate code using this dataframe.\"\n",
              "            style=\"display:none;\">\n",
              "\n",
              "  <svg xmlns=\"http://www.w3.org/2000/svg\" height=\"24px\"viewBox=\"0 0 24 24\"\n",
              "       width=\"24px\">\n",
              "    <path d=\"M7,19H8.4L18.45,9,17,7.55,7,17.6ZM5,21V16.75L18.45,3.32a2,2,0,0,1,2.83,0l1.4,1.43a1.91,1.91,0,0,1,.58,1.4,1.91,1.91,0,0,1-.58,1.4L9.25,21ZM18.45,9,17,7.55Zm-12,3A5.31,5.31,0,0,0,4.9,8.1,5.31,5.31,0,0,0,1,6.5,5.31,5.31,0,0,0,4.9,4.9,5.31,5.31,0,0,0,6.5,1,5.31,5.31,0,0,0,8.1,4.9,5.31,5.31,0,0,0,12,6.5,5.46,5.46,0,0,0,6.5,12Z\"/>\n",
              "  </svg>\n",
              "    </button>\n",
              "    <script>\n",
              "      (() => {\n",
              "      const buttonEl =\n",
              "        document.querySelector('#id_c9796159-4791-4c65-a802-8beadb337c57 button.colab-df-generate');\n",
              "      buttonEl.style.display =\n",
              "        google.colab.kernel.accessAllowed ? 'block' : 'none';\n",
              "\n",
              "      buttonEl.onclick = () => {\n",
              "        google.colab.notebook.generateWithVariable('name');\n",
              "      }\n",
              "      })();\n",
              "    </script>\n",
              "  </div>\n",
              "\n",
              "    </div>\n",
              "  </div>\n"
            ],
            "application/vnd.google.colaboratory.intrinsic+json": {
              "type": "dataframe",
              "variable_name": "name",
              "summary": "{\n  \"name\": \"name\",\n  \"rows\": 1,\n  \"fields\": [\n    {\n      \"column\": \"feature names\",\n      \"properties\": {\n        \"dtype\": \"object\",\n        \"semantic_type\": \"\",\n        \"description\": \"\"\n      }\n    },\n    {\n      \"column\": \"target names\",\n      \"properties\": {\n        \"dtype\": \"object\",\n        \"semantic_type\": \"\",\n        \"description\": \"\"\n      }\n    }\n  ]\n}"
            }
          },
          "metadata": {},
          "execution_count": 11
        },
        {
          "output_type": "stream",
          "name": "stderr",
          "text": [
            "WARNING:root:Quickchart encountered unexpected dtypes in columns: \"(['feature names', 'target names'],)\"\n"
          ]
        },
        {
          "output_type": "display_data",
          "data": {
            "text/plain": [
              "<google.colab._quickchart_helpers.SectionTitle at 0x7e4acd3c2d90>"
            ],
            "text/html": [
              "<h4 class=\"colab-quickchart-section-title\">Time series</h4>\n",
              "<style>\n",
              "  .colab-quickchart-section-title {\n",
              "      clear: both;\n",
              "  }\n",
              "</style>"
            ]
          },
          "metadata": {}
        },
        {
          "output_type": "display_data",
          "data": {
            "text/plain": [
              "from matplotlib import pyplot as plt\n",
              "import seaborn as sns\n",
              "def _plot_series(series, series_name, series_index=0):\n",
              "  palette = list(sns.palettes.mpl_palette('Dark2'))\n",
              "  counted = (series['index']\n",
              "                .value_counts()\n",
              "              .reset_index(name='counts')\n",
              "              .rename({'index': 'index'}, axis=1)\n",
              "              .sort_values('index', ascending=True))\n",
              "  xs = counted['index']\n",
              "  ys = counted['counts']\n",
              "  plt.plot(xs, ys, label=series_name, color=palette[series_index % len(palette)])\n",
              "\n",
              "fig, ax = plt.subplots(figsize=(10, 5.2), layout='constrained')\n",
              "df_sorted = _df_0.sort_values('index', ascending=True)\n",
              "_plot_series(df_sorted, '')\n",
              "sns.despine(fig=fig, ax=ax)\n",
              "plt.xlabel('index')\n",
              "_ = plt.ylabel('count()')"
            ],
            "text/html": [
              "      <div class=\"colab-quickchart-chart-with-code\" id=\"chart-228690b6-7cb5-4400-9727-38c88c874e77\">\n",
              "        <img style=\"width: 180px;\" src=\"data:image/png;base64,iVBORw0KGgoAAAANSUhEUgAAA/MAAAITCAYAAABLz0yVAAAAOnRFWHRTb2Z0d2FyZQBNYXRwbG90\n",
              "bGliIHZlcnNpb24zLjEwLjAsIGh0dHBzOi8vbWF0cGxvdGxpYi5vcmcvlHJYcgAAAAlwSFlzAAAP\n",
              "YQAAD2EBqD+naQAAIxZJREFUeJzt3X+QVfV9//HXZalrtPIjIxE767IuP1T8haKMQCqJSUdMBX9g\n",
              "jU1NhkYQ26Y6UosyDW1orCaNohTTUTuMjWZqmqIxTNLpTKOtRbGDFjEVNRFkXTCiMVWWWEGWPf3D\n",
              "yX6zX0DZuJflI4/HzBm593z27vvMfGbHJ/fuoVZVVRUAAACgGAP6ewAAAACgd8Q8AAAAFEbMAwAA\n",
              "QGHEPAAAABRGzAMAAEBhxDwAAAAURswDAABAYcQ8AAAAFOYDH/OLFy/u7xEAAACgT33gY/7FF1/s\n",
              "7xEAAACgT33gYx4AAAA+aMQ8AAAAFEbMAwAAQGHEPAAAABRGzAMAAEBhxDwAAAAURswDAABAYcQ8\n",
              "AAAAFEbMAwAAQGHEPAAAABRGzAMAAEBhxDwAAAAURswDAABAYcQ8AAAAFEbMAwAAQGHEPAAAABRG\n",
              "zAMAAEBhxDwAAAAURswDAABAYcQ8AAAAFEbMAwAAQGHEPAAAABRGzAMAAEBhxDwAAAAURswDAABA\n",
              "YcQ8AAAAFEbMAwAAQGHEPAAAABRGzAMAAEBhxDwAAAAURswDAABAYcQ8AAAAFEbMAwAAQGHEPAAA\n",
              "ABRGzAMAAEBhxDwAAAAURswDAABAYcQ8AAAAFEbMAwAAQGHEPAAAABRGzAMAAEBhxDwAAAAURswD\n",
              "AABAYcQ8AAAAFEbMAwAAQGHEPAAAABRGzAMAAEBhxDwAAAAURswDAABAYcQ8AAAAFEbMAwAAQGHE\n",
              "PAAAABRGzAMAAEBhxDwAAAAURswDAABAYcQ8AAAAFEbMAwAAQGHEPAAAABRGzAMAAEBhxDwAAAAU\n",
              "RswDAABAYeoa81deeWVaWlpSq9WyZs2aPa5bunRpRo8enZEjR2b27NnZsWNHj/NVVeWss87KkCFD\n",
              "6jkuAAAAFKGuMX/RRRflkUceyYgRI/a4ZsOGDVmwYEFWrFiRdevW5ZVXXsmdd97ZY80tt9ySkSNH\n",
              "1nNUAAAAKEZdY/7MM89MU1PTu65ZtmxZpk+fnuHDh6dWq+WKK67Ivffe231+7dq1eeCBB3Lddde9\n",
              "5/fbvn17Ojo6ehw7d+5839cBAAAA+5N+/5359vb2Hu/ct7S0pL29PUmyY8eOzJ49O3fccUcaGhre\n",
              "87VuvPHGDB48uMexatWqus0OAAAA/aHfY/7dLFy4MBdeeGGOO+64vVo/f/78bNmypccxYcKEOk8J\n",
              "AAAA+9bA/h6gubk569ev737c1taW5ubmJMnDDz+c9vb23Hbbbens7ExHR0daWlry+OOPZ9iwYbu8\n",
              "VmNjYxobG3s8tzfv6AMAAEBJ+v2d+RkzZmT58uXZvHlzqqrK7bffnksuuSRJsmLFirz44otpa2vL\n",
              "I488kkGDBqWtrW23IQ8AAAAHirrG/Jw5c9LU1JRNmzbl7LPPzqhRo5Iks2bNyvLly5Mkra2tWbhw\n",
              "YSZPnpxRo0Zl2LBhmTNnTj3HAgAAgKLVqqqq+nuIepo7d24WLVrU32MAAABAn+n3j9kDAAAAvSPm\n",
              "AQAAoDBiHgAAAAoj5gEAAKAwYh4AAAAKI+YBAACgMGIeAAAACiPmAQAAoDBiHgAAAAoj5gEAAKAw\n",
              "Yh4AAAAKI+YBAACgMGIeAAAACiPmAQAAoDBiHgAAAAoj5gEAAKAwYh4AAAAKI+YBAACgMGIeAAAA\n",
              "CiPmAQAAoDBiHgAAAAoj5gEAAKAwYh4AAAAKI+YBAACgMGIeAAAACiPmAQAAoDBiHgAAAAoj5gEA\n",
              "AKAwYh4AAAAKI+YBAACgMGIeAAAACiPmAQAAoDBiHgAAAAoj5gEAAKAwYh4AAAAKI+YBAACgMGIe\n",
              "AAAACiPmAQAAoDBiHgAAAAoj5gEAAKAwYh4AAAAKI+YBAACgMGIeAAAACiPmAQAAoDBiHgAAAAoj\n",
              "5gEAAKAwYh4AAAAKI+YBAACgMGIeAAAACiPmAQAAoDBiHgAAAAoj5gEAAKAwYh4AAAAKI+YBAACg\n",
              "MGIeAAAACiPmAQAAoDBiHgAAAAoj5gEAAKAwYh4AAAAKI+YBAACgMGIeAAAACiPmAQAAoDBiHgAA\n",
              "AAoj5gEAAKAwYh4AAAAKI+YBAACgMGIeAAAACiPmAQAAoDBiHgAAAAoj5gEAAKAwYh4AAAAKI+YB\n",
              "AACgMGIeAAAACiPmAQAAoDBiHgAAAAoj5gEAAKAwYh4AAAAKI+YBAACgMHWN+SuvvDItLS2p1WpZ\n",
              "s2bNHtctXbo0o0ePzsiRIzN79uzs2LEjSfLQQw9lwoQJGTt2bI4//vjMmzcvXV1d9RwZAAAA9nt1\n",
              "jfmLLroojzzySEaMGLHHNRs2bMiCBQuyYsWKrFu3Lq+88kruvPPOJMnQoUPzrW99K88880z+67/+\n",
              "KytXrszdd99dz5EBAABgv1fXmD/zzDPT1NT0rmuWLVuW6dOnZ/jw4anVarniiity7733JklOOeWU\n",
              "tLa2JkkOPvjgjBs3Lm1tbXt8re3bt6ejo6PHsXPnzj67HgAAANgf9PvvzLe3t/d4576lpSXt7e27\n",
              "rNu8eXOWLVuWc889d4+vdeONN2bw4ME9jlWrVtVlbgAAAOgv/R7ze6OjoyPTpk3LvHnzctppp+1x\n",
              "3fz587Nly5Yex4QJE/bhpAAAAFB/A/t7gObm5qxfv777cVtbW5qbm7sfb926NVOnTs15552XuXPn\n",
              "vutrNTY2prGxscdzDQ0NfTswAAAA9LN+f2d+xowZWb58eTZv3pyqqnL77bfnkksuSZL8/Oc/z9Sp\n",
              "UzN16tR88Ytf7OdJAQAAYP9Q15ifM2dOmpqasmnTppx99tkZNWpUkmTWrFlZvnx5kqS1tTULFy7M\n",
              "5MmTM2rUqAwbNixz5sxJkixevDirVq3K/fffn3HjxmXcuHH5q7/6q3qODAAAAPu9WlVVVX8PUU9z\n",
              "587NokWL+nsMAAAA6DP9/jF7AAAAoHfEPAAAABRGzAMAAEBhxDwAAAAURswDAABAYcQ8AAAAFEbM\n",
              "AwAAQGHEPAAAABRGzAMAAEBhxDwAAAAURswDAABAYcQ8AAAAFEbMAwAAQGHEPAAAABRGzAMAAEBh\n",
              "xDwAAAAURswDAABAYcQ8AAAAFEbMAwAAQGHEPAAAABRGzAMAAEBhxDwAAAAURswDAABAYcQ8AAAA\n",
              "FEbMAwAAQGHEPAAAABRGzAMAAEBhxDwAAAAURswDAABAYcQ8AAAAFEbMAwAAQGHEPAAAABRGzAMA\n",
              "AEBhxDwAAAAURswDAABAYcQ8AAAAFEbMAwAAQGHEPAAAABRGzAMAAEBhxDwAAAAURswDAABAYcQ8\n",
              "AAAAFEbMAwAAQGHEPAAAABRGzAMAAEBhxDwAAAAURswDAABAYcQ8AAAAFEbMAwAAQGHEPAAAABRG\n",
              "zAMAAEBhxDwAAAAURswDAABAYcQ8AAAAFEbMAwAAQGHEPAAAABRGzAMAAEBhxDwAAAAURswDAABA\n",
              "YcQ8AAAAFEbMAwAAQGHEPAAAABRGzAMAAEBhxDwAAAAUZuCv8kXPPPNMNm3alA996EM58cQTM2TI\n",
              "kD4eCwAAANiTvY75rVu35qabbsrf/d3f5ZBDDskRRxyRbdu2Zf369ZkwYUKuvfbafOITn6jnrAAA\n",
              "AEB6EfMf//jH87nPfS5PPvlkjjjiiO7nu7q6smLFitx+++1Zt25d5syZU5dBAQAAgHfsdcw/+uij\n",
              "aWxs3OX5AQMGZMqUKZkyZUq2b9/ep8MBAAAAu9rrG+DtLuR/lTUAAADA+7PXMX/uuedm5cqVuz33\n",
              "xhtv5Oabb84dd9zRZ4MBAAAAu7fXH7O/4YYbMn/+/DzzzDM5/fTTu2+A99xzz+Wll17KH/3RH+Xz\n",
              "n/98PWcFAAAA0ouYP+mkk/L9738/GzduzMMPP5xNmzblkEMOye/93u/lox/9aAYO/JX+lTsAAACg\n",
              "l3pd4K+//nouvfTSHs/98Ic/zEknndRnQwEAAAB7tte/M/8LM2fO3KvnAAAAgPrY63fmX3311Wze\n",
              "vDlvvfVW/vu//ztVVSVJtmzZkjfffLNuAwIAAAA97XXM33vvvbn11lvzk5/8JNOnT+9+fvDgwZk3\n",
              "b15dhgMAAAB2tdcxf9VVV+Wqq67Kl7/85SxYsKCeMwEAAADvotc3wFuwYEG6urqyefPmdHZ2dj/f\n",
              "3Nzcp4MBAAAAu9frG+B94xvfyJAhQ3LiiSdm/PjxGT9+fE477bTdrr3yyivT0tKSWq2WNWvW7PE1\n",
              "ly5dmtGjR2fkyJGZPXt2duzYsVfnAAAA4EDU65j/y7/8yzz++OP52c9+lp/+9Kf56U9/mldffXW3\n",
              "ay+66KI88sgjGTFixB5fb8OGDVmwYEFWrFiRdevW5ZVXXsmdd975nucAAADgQNXrmD/88MNzzDHH\n",
              "7NXaM888M01NTe+6ZtmyZZk+fXqGDx+eWq2WK664Ivfee+97ngMAAIADVa9/Z/7888/Prbfems98\n",
              "5jM5+OCDu58fNGjQrzRAe3t7j3fuW1pa0t7e/p7ndmf79u3Zvn17j+d27tz5K80FAAAA+6tevzP/\n",
              "Z3/2Z5k7d26GDx+eoUOHZsiQIRk6dGg9Zuu1G2+8MYMHD+5xrFq1qr/HAgAAgD7V65jv6urqPnbu\n",
              "3Nn9319Vc3NzXnzxxe7HbW1t3XfGf7dzuzN//vxs2bKlxzFhwoRfeTYAAADYH/U65vvajBkzsnz5\n",
              "8mzevDlVVeX222/PJZdc8p7ndqexsTGDBg3qcTQ0NOyrSwEAAIB9otcxP2DAgDQ0NOxy7M6cOXPS\n",
              "1NSUTZs25eyzz86oUaOSJLNmzcry5cuTJK2trVm4cGEmT56cUaNGZdiwYZkzZ857ngMAAIADVa2q\n",
              "qqo3X/Dmm292//mtt97K3XffnZ07d+ZP//RP+3y4vjB37twsWrSov8cAAACAPtPrd+YPPfTQ7uPw\n",
              "ww/P3Llzs2zZsnrMBgAAAOzG+/6d+eeeey6vvfZaX8wCAAAA7IVe/zvzQ4cOTa1WS5J0dnYmSZYs\n",
              "WdK3UwEAAAB71OuYX7Nmzf/74oEDM3z4cHeMBwAAgH2o1zE/YsSI/O///m931A8dOjSHHHJIX88F\n",
              "AAAA7EGvY37lypWZMWNGhg8fniR55ZVXct9992XixIl9PhwAAACwq17H/C/uXj958uQk78T91Vdf\n",
              "nf/8z//s8+EAAACAXfX6bvZvvfVWd8gnyaRJk7Jt27Y+HQoAAADYs17H/K//+q/nBz/4QffjBx98\n",
              "MIceemifDgUAAADsWa8/Zv83f/M3ufDCC7vvYN/V1ZX777+/zwcDAAAAdq/XMf+Tn/wkTzzxRF55\n",
              "5ZUkyRFHHJFVq1b1+WAAAADA7vX6Y/YLFizIsGHDcsIJJ+SEE07I4YcfngULFtRjNgAAAGA3eh3z\n",
              "/79arZadO3f2xSwAAADAXuh1zB922GFZuXJl9+NHH300hx12WJ8OBQAAAOxZr39n/q//+q9zwQUX\n",
              "5Nhjj02SPP/88/nOd77T54MBAAAAu9frmJ84cWKeffbZPPbYY0ne+XfmhwwZ0tdzAQAAAHvQ65hP\n",
              "kqFDh+ZTn/pUX88CAAAA7IX3fQM8AAAAYN8S8wAAAFAYMQ8AAACFEfMAAABQGDEPAAAAhRHzAAAA\n",
              "UBgxDwAAAIUR8wAAAFAYMQ8AAACFEfMAAABQGDEPAAAAhRHzAAAAUBgxDwAAAIUR8wAAAFAYMQ8A\n",
              "AACFEfMAAABQGDEPAAAAhRHzAAAAUBgxDwAAAIUR8wAAAFAYMQ8AAACFEfMAAABQGDEPAAAAhRHz\n",
              "AAAAUBgxDwAAAIUR8wAAAFAYMQ8AAACFEfMAAABQGDEPAAAAhRHzAAAAUBgxDwAAAIUR8wAAAFAY\n",
              "MQ8AAACFEfMAAABQGDEPAAAAhRHzAAAAUBgxDwAAAIUR8wAAAFAYMQ8AAACFEfMAAABQGDEPAAAA\n",
              "hRHzAAAAUBgxDwAAAIUR8wAAAFAYMQ8AAACFEfMAAABQGDEPAAAAhRHzAAAAUBgxDwAAAIUR8wAA\n",
              "AFAYMQ8AAACFEfMAAABQGDEPAAAAhRHzAAAAUBgxDwAAAIUR8wAAAFAYMQ8AAACFEfMAAABQGDEP\n",
              "AAAAhRHzAAAAUBgxDwAAAIUR8wAAAFCYusb8888/n0mTJmXMmDE5/fTTs3bt2l3WdHV15ZprrskJ\n",
              "J5yQY489Npdddlnefvvt7vNf/epXM3bs2IwbNy5nnHFGVq1aVc+RAQAAYL9X15ifM2dOLr/88vz4\n",
              "xz/Otddem5kzZ+6yZunSpVm9enVWr16dZ599NgMGDMjixYuTJGvWrMnf/u3fZtWqVVmzZk2+8IUv\n",
              "5Atf+EI9RwYAAID9Xt1i/tVXX80TTzyRSy+9NEkyY8aMbNy4MevWreux7qmnnsonP/nJHHTQQanV\n",
              "ajnnnHNyzz33JElqtVp27NiRN998M0nyxhtvpKmpaY/fc/v27eno6Ohx7Ny5s05XCAAAAP2jbjG/\n",
              "cePGHHnkkRk4cGCSd8K8ubk57e3tPdaNHz8+y5cvT0dHR3bs2JFvf/vbaWtrS5KcfPLJufrqq3P0\n",
              "0Uenqakpt9xyS5YsWbLH73njjTdm8ODBPQ4fywcAAOCDpt9vgDdz5sxMnTo1U6ZMyZQpUzJmzJju\n",
              "vwDYsGFD7r///qxbty6bNm3K1VdfnU9/+tN7fK358+dny5YtPY4JEybsq0sBAACAfaJuMX/UUUfl\n",
              "5ZdfTmdnZ5Kkqqq0t7enubm5x7parZYvfelLefLJJ7Ny5cqMHTs2xx9/fJLkvvvuy4knnpjf+I3f\n",
              "SJL8/u//fh599NEeN8j7ZY2NjRk0aFCPo6GhoV6XCAAAAP2ibjH/kY98JKeeemq++c1vJnknzJua\n",
              "mjJq1Kge67Zt25bXX389SfLaa6/lK1/5SubNm5ckaW1tzaOPPpqf//znSZLvfe97GTNmTA466KB6\n",
              "jQ0AAAD7vYH1fPE77rgjM2fOzA033JBBgwblrrvuSpLMmjUr06dPz/Tp07Nly5Z87GMfy4ABA9LV\n",
              "1ZWrrroq06ZNS5JccMEFefzxx3PaaaelsbExhx56aP7hH/6hniMDAADAfq9WVVXV30PU09y5c7No\n",
              "0aL+HgMAAAD6TL/fAA8AAADoHTEPAAAAhRHzAAAAUBgxDwAAAIUR8wAAAFAYMQ8AAACFEfMAAABQ\n",
              "GDEPAAAAhRHzAAAAUBgxDwAAAIUR8wAAAFAYMQ8AAACFEfMAAABQGDEPAAAAhRHzAAAAUBgxDwAA\n",
              "AIUR8wAAAFAYMQ8AAACFEfMAAABQGDEPAAAAhRHzAAAAUBgxDwAAAIUR8wAAAFAYMQ8AAACFEfMA\n",
              "AABQGDEPAAAAhRHzAAAAUBgxDwAAAIUR8wAAAFAYMQ8AAACFEfMAAABQGDEPAAAAhRHzAAAAUBgx\n",
              "DwAAAIUR8wAAAFAYMQ8AAACFEfMAAABQGDEPAAAAhRHzAAAAUBgxDwAAAIUR8wAAAFAYMQ8AAACF\n",
              "EfMAAABQGDEPAAAAhRHzAAAAUBgxDwAAAIUR8wAAAFAYMQ8AAACFEfMAAABQGDEPAAAAhRHzAAAA\n",
              "UBgxDwAAAIUR8wAAAFAYMQ8AAACFEfMAAABQGDEPAAAAhRHzAAAAUBgxDwAAAIUR8wAAAFAYMQ8A\n",
              "AACFEfMAAABQGDEPAAAAhRHzAAAAUBgxDwAAAIUR8wAAAFAYMQ8AAACFEfMAAABQGDEPAAAAhRHz\n",
              "AAAAUBgxDwAAAIUR8wAAAFAYMQ8AAACFEfMAAABQGDEPAAAAhRHzAAAAUBgxDwAAAIUR8wAAAFAY\n",
              "MQ8AAACFqWvMP//885k0aVLGjBmT008/PWvXrt1lTVdXV6655pqccMIJOfbYY3PZZZfl7bff7j7f\n",
              "3t6eadOm5ZhjjsnYsWOzZMmSeo4MAAAA+726xvycOXNy+eWX58c//nGuvfbazJw5c5c1S5cuzerV\n",
              "q7N69eo8++yzGTBgQBYvXpwkqaoqF1xwQT73uc/lRz/6UZ555plcfPHF9RwZAAAA9nt1i/lXX301\n",
              "TzzxRC699NIkyYwZM7Jx48asW7eux7qnnnoqn/zkJ3PQQQelVqvlnHPOyT333JMkefDBB9PY2Jjf\n",
              "+Z3f6V5/xBFH7PF7bt++PR0dHT2OnTt31uHqAAAAoP/ULeY3btyYI488MgMHDkyS1Gq1NDc3p729\n",
              "vce68ePHZ/ny5eno6MiOHTvy7W9/O21tbUmSZ555JsOGDcsll1ySU045JRdccEFeeOGFPX7PG2+8\n",
              "MYMHD+5xrFq1ql6XCAAAAP2i32+AN3PmzEydOjVTpkzJlClTMmbMmO6/AOjs7MxDDz2UBQsW5Mkn\n",
              "n8zZZ5/9rh+znz9/frZs2dLjmDBhwr66FAAAANgn6hbzRx11VF5++eV0dnYmeef339vb29Pc3Nxj\n",
              "Xa1Wy5e+9KU8+eSTWblyZcaOHZvjjz8+SdLc3JxTTjml+/FnP/vZrF69Ojt27Njt92xsbMygQYN6\n",
              "HA0NDfW6RAAAAOgXdYv5j3zkIzn11FPzzW9+M0ly3333pampKaNGjeqxbtu2bXn99deTJK+99lq+\n",
              "8pWvZN68eUmSc845J5s2bcpLL72UJPnnf/7nHHfccfm1X/u1eo0NAAAA+72B9XzxO+64IzNnzswN\n",
              "N9yQQYMG5a677kqSzJo1K9OnT8/06dOzZcuWfOxjH8uAAQPS1dWVq666KtOmTUuSHHroobn99tvz\n",
              "27/926mqKoMHD863vvWteo4MAAAA+71aVVVVfw9RT3Pnzs2iRYv6ewwAAADoM/1+AzwAAACgd8Q8\n",
              "AAAAFEbMAwAAQGHEPAAAABRGzAMAAEBhxDwAAAAURswDAABAYcQ8AAAAFEbMAwAAQGHEPAAAABRG\n",
              "zAMAAEBhxDwAAAAURswDAABAYcQ8AAAAFEbMAwAAQGHEPAAAABRGzAMAAEBhxDwAAAAURswDAABA\n",
              "YcQ8AAAAFEbMAwAAQGHEPAAAABRGzAMAAEBhxDwAAAAURswDAABAYcQ8AAAAFEbMAwAAQGHEPAAA\n",
              "ABRGzAMAAEBhxDwAAAAURswDAABAYcQ8AAAAFEbMAwAAQGHEPAAAABRGzAMAAEBhxDwAAAAURswD\n",
              "AABAYcQ8AAAAFEbMAwAAQGHEPAAAABRGzAMAAEBhxDwAAAAURswDAABAYcQ8AAAAFEbMAwAAQGHE\n",
              "PAAAABRGzAMAAEBhxDwAAAAURswDAABAYcQ8AAAAFEbMAwAAQGHEPAAAABRGzAMAAEBhxDwAAAAU\n",
              "RswDAABAYcQ8AAAAFEbMAwAAQGHEPAAAABRGzAMAAEBhxDwAAAAUplZVVdXfQ9TThRdemJaWlv4e\n",
              "g36yc+fOrFq1KhMmTEhDQ0N/jwPvyn6lJPYrJbFfKYn9SpKMGDEiV1111buu+cDHPAe2jo6ODB48\n",
              "OFu2bMmgQYP6exx4V/YrJbFfKYn9SknsV/aWj9kDAABAYcQ8AAAAFEbMAwAAQGHEPB9ojY2N+Yu/\n",
              "+Is0Njb29yjwnuxXSmK/UhL7lZLYr+wtN8ADAACAwnhnHgAAAAoj5gEAAKAwYh4AAAAKI+YpXldX\n",
              "V/74j/84I0eOzKhRo3Lbbbftce3zzz+fSZMmZcyYMTn99NOzdu3aXdbcddddqdVqeeCBB+o4NQeq\n",
              "vtiv27Zty/nnn58xY8bk5JNPzm/91m9l3bp1++oS+IDbm5+TSbJ06dKMHj06I0eOzOzZs7Njx469\n",
              "Ogd96f3u14ceeigTJkzI2LFjc/zxx2fevHnp6ural5fAAaQvfr4mSVVVOeusszJkyJB9MDX7tQoK\n",
              "941vfKM666yzqs7OzupnP/tZ1dzcXD399NO7Xfvxj3+8uuuuu6qqqqp/+qd/qk477bQe5zds2FBN\n",
              "nDixOuOMM6rvfOc7dZ6cA1Ff7Ne33nqr+v73v191dXVVVVVVS5YsqaZMmbIvxucA8F4/J6uqql54\n",
              "4YXqyCOPrF5++eWqq6urmjZtWnXbbbe95znoa+93v65evbpav359VVXv/GydPHly9+tBX3u/+/UX\n",
              "br755mrWrFnV4MGD98HU7M+8M0/x/vEf/zGzZ89OQ0NDPvzhD+fTn/507r333l3Wvfrqq3niiSdy\n",
              "6aWXJklmzJiRjRs3dr+j2dXVlVmzZmXJkiX+KRDqpi/268EHH5xPfepTqdVqSZIzzjgjbW1t+/Iy\n",
              "+IB6r5+Tv7Bs2bJMnz49w4cPT61WyxVXXNG9j9/tHPSlvtivp5xySlpbW5MkBx98cMaNG+fnKXXR\n",
              "F/s1SdauXZsHHngg11133T6dn/2TmKd47e3tGTFiRPfjlpaWtLe377Ju48aNOfLIIzNw4MAkSa1W\n",
              "S3Nzc/faRYsWZfLkyRk/fvy+GZwDUl/t11+2ePHinHfeefUbmgPG3u67d9vHe7vH4f3qi/36yzZv\n",
              "3pxly5bl3HPPre/gHJD6Yr/u2LEjs2fPzh133JGGhoZ9Nzz7rYH9PQC8l4kTJ+b555/f7bknn3yy\n",
              "T77H008/nfvuuy//8R//0Sevx4FrX+zXX3bDDTdk3bp1efDBB/v8tQEOFB0dHZk2bVrmzZuX0047\n",
              "rb/Hgd1auHBhLrzwwhx33HE+QUISMU8BHnvssXc939zcnBdffDETJ05MkrS1taW5uXmXdUcddVRe\n",
              "fvnldHZ2ZuDAgamqKu3t7Wlubs6//uu/pq2tLaNHj07yzt/OX3755Xn55ZfzB3/wB31/UXxg7Yv9\n",
              "+gs33XRT7r///vzgBz/IIYcc0rcXwgFpb/Zd8s4+Xr9+fffjX97H73YO+lJf7Nck2bp1a6ZOnZrz\n",
              "zjsvc+fO3Wfzc2Dpi/368MMPp729Pbfddls6OzvT0dGRlpaWPP744xk2bNg+vR72E/36G/vQB+66\n",
              "665dbij2wx/+cLdrp0yZ0uPGI+PHj9/jOjfAox76ar/efPPN1amnnlr9z//8z74YmwPI3vycXL9+\n",
              "/S43aFqyZMl7noO+9n7369atW6tJkyZVCxcu3Jdjc4B6v/v1l23YsMEN8KjEPMXr7Oys/vAP/7A6\n",
              "+uijq9bW1urWW2/tPvfd7363uuyyy7ofP/fcc9UZZ5xRjR49uho/fvy7RpSYpx76Yr9u3LixSlK1\n",
              "trZWJ598cnXyySdXEyZM2OfXwgfTnvbdZZddVn33u9/tXnfnnXdWra2tVWtra/X5z3++evvtt/fq\n",
              "HPSl97tfr7/++mrgwIHdP0tPPvnk6vrrr++Xa+GDry9+vv6CmKeqqqpWVVXV358OAAAAAPaeu9kD\n",
              "AABAYcQ8AAAAFEbMAwAAQGHEPAAc4MaNG5etW7f2+usuuuii/P3f/33fDwQAvCf/zjwAHODWrFnT\n",
              "3yMAAL3knXkAOMDVarW88cYbSZKWlpb8+Z//eSZOnJijjz46119/ffe65557LpMmTcrxxx+f888/\n",
              "Px0dHd3ntm7dmtmzZ2fChAk56aSTcvnll+ftt9/Oj370ozQ1NeWFF15Iktx0002ZOnVqurq69uk1\n",
              "AsAHjZgHAHp444038thjj+Xxxx/P1772tbz00ktJks9+9rO57LLLsnbt2nz5y1/Oww8/3P01f/In\n",
              "f5Lf/M3fzKpVq/LUU0+lq6srixcvzjHHHJOvfe1rufjii/Pv//7v+frXv5577rknAwb4XxAAeD98\n",
              "zB4A6OEzn/lMkuTwww9Pa2trNmzYkMMOOyxr1qzJzJkzkyQnnnhiPvrRj3Z/zQMPPJDHHnssixYt\n",
              "SpK89dZbaWhoSJL87u/+bv7t3/4tZ599dh588MEMGzZs314QAHwAiXkAoIeDDz64+88NDQ3p7Ozc\n",
              "7bpardb956qqct9992XMmDG7rOvs7MzTTz+dD3/4w93v8gMA74/PuAEA72nQoEE55ZRTcvfddydJ\n",
              "1q5dm0ceeaT7/Pnnn5+vfvWr3eH/+uuvZ926dUmS6667Lsccc0xWrFiRa665pvt5AOBXJ+YBgL1y\n",
              "9913584778wJJ5yQL37xiznzzDO7z91yyy350Ic+lHHjxuWkk07KJz7xibS1teV73/te/uVf/iVf\n",
              "//rXM2rUqCxatCgXX3xxtm3b1o9XAgDlq1VVVfX3EAAAAMDe8848AAAAFEbMAwAAQGHEPAAAABRG\n",
              "zAMAAEBhxDwAAAAURswDAABAYcQ8AAAAFEbMAwAAQGHEPAAAABRGzAMAAEBh/g/8tOZRBpkxHgAA\n",
              "AABJRU5ErkJggg==\n",
              "\">\n",
              "      </div>\n",
              "      <script type=\"text/javascript\">\n",
              "        (() => {\n",
              "          const chartElement = document.getElementById(\"chart-228690b6-7cb5-4400-9727-38c88c874e77\");\n",
              "          async function getCodeForChartHandler(event) {\n",
              "            const chartCodeResponse =  await google.colab.kernel.invokeFunction(\n",
              "                'getCodeForChart', [\"chart-228690b6-7cb5-4400-9727-38c88c874e77\"], {});\n",
              "            const responseJson = chartCodeResponse.data['application/json'];\n",
              "            await google.colab.notebook.addCell(responseJson.code, 'code');\n",
              "          }\n",
              "          chartElement.onclick = getCodeForChartHandler;\n",
              "        })();\n",
              "      </script>\n",
              "      <style>\n",
              "        .colab-quickchart-chart-with-code  {\n",
              "            display: block;\n",
              "            float: left;\n",
              "            border: 1px solid transparent;\n",
              "        }\n",
              "\n",
              "        .colab-quickchart-chart-with-code:hover {\n",
              "            cursor: pointer;\n",
              "            border: 1px solid #aaa;\n",
              "        }\n",
              "      </style>"
            ]
          },
          "metadata": {}
        }
      ]
    },
    {
      "cell_type": "markdown",
      "source": [
        "giving the values to x and y"
      ],
      "metadata": {
        "id": "vRL5dAw4mCsU"
      }
    },
    {
      "cell_type": "code",
      "source": [
        "x = iris.data\n",
        "y = iris.target"
      ],
      "metadata": {
        "id": "gwclRix5hw6u"
      },
      "execution_count": 12,
      "outputs": []
    },
    {
      "cell_type": "markdown",
      "source": [
        "train and test data splitting"
      ],
      "metadata": {
        "id": "uVrRw0w7mODz"
      }
    },
    {
      "cell_type": "code",
      "source": [
        "x_train, x_test, y_train, y_test = train_test_split(x, y, test_size=0.2)"
      ],
      "metadata": {
        "id": "Nqz7zOkxiK4M"
      },
      "execution_count": 21,
      "outputs": []
    },
    {
      "cell_type": "markdown",
      "source": [
        "initialising the model"
      ],
      "metadata": {
        "id": "RXnt1fR4mLol"
      }
    },
    {
      "cell_type": "code",
      "source": [
        "rf = RandomForestClassifier(n_estimators=10)"
      ],
      "metadata": {
        "id": "6iSkYPMliVZD"
      },
      "execution_count": 22,
      "outputs": []
    },
    {
      "cell_type": "markdown",
      "source": [
        "fitting the model with the training data set"
      ],
      "metadata": {
        "id": "bGoayCYnmTiy"
      }
    },
    {
      "cell_type": "code",
      "source": [
        "rfc = rf.fit(x_train, y_train)"
      ],
      "metadata": {
        "id": "AQ2IpsLBjQaY"
      },
      "execution_count": 23,
      "outputs": []
    },
    {
      "cell_type": "markdown",
      "source": [
        "For predicting the data"
      ],
      "metadata": {
        "id": "_7aLU5XQmbUY"
      }
    },
    {
      "cell_type": "code",
      "source": [
        "y_rf_train_pred = rfc.predict(x_train)\n",
        "y_rf_test_pred = rfc.predict(x_test)"
      ],
      "metadata": {
        "id": "wIOrl1B6jxdt"
      },
      "execution_count": 25,
      "outputs": []
    },
    {
      "cell_type": "markdown",
      "source": [
        "importing the accuracy score and evaluating results using this"
      ],
      "metadata": {
        "id": "2N-p8W8PmhFV"
      }
    },
    {
      "cell_type": "code",
      "source": [
        "from sklearn.metrics import accuracy_score\n",
        "print(rfc.score(x_train, y_train))\n",
        "print(rfc.score(x_test, y_test))"
      ],
      "metadata": {
        "colab": {
          "base_uri": "https://localhost:8080/"
        },
        "id": "bu3Qk31xkBr4",
        "outputId": "1ea382d5-3d21-45dc-c639-b3a501b6cf2a"
      },
      "execution_count": 27,
      "outputs": [
        {
          "output_type": "stream",
          "name": "stdout",
          "text": [
            "1.0\n",
            "0.9666666666666667\n"
          ]
        }
      ]
    },
    {
      "cell_type": "markdown",
      "source": [
        "visualising the training data and the predicted data from training"
      ],
      "metadata": {
        "id": "R_hFmx9-mml4"
      }
    },
    {
      "cell_type": "code",
      "source": [
        "import matplotlib.pyplot as plt\n",
        "import numpy as np\n",
        "plt.figure(figsize = (5,5))\n",
        "plt.scatter(x=y_train, y = y_rf_train_pred,c = \"#7CFC00\", alpha=0.3)\n",
        "#alpha helps in color change so that overlapper is more darker\n",
        "Z=np.polyfit(y_train, y_rf_train_pred,1)\n",
        "p=np.poly1d(Z)\n",
        "plt.plot(y_train, p(y_train), '#F8766D')\n",
        "plt.ylabel(\"predict LogS\")\n",
        "plt.xlabel(\"EXperimental LogS\")"
      ],
      "metadata": {
        "colab": {
          "base_uri": "https://localhost:8080/",
          "height": 482
        },
        "id": "1st1gBV6lInF",
        "outputId": "170ef61e-513f-4f85-8bc3-ddd014a59fe8"
      },
      "execution_count": 29,
      "outputs": [
        {
          "output_type": "execute_result",
          "data": {
            "text/plain": [
              "Text(0.5, 0, 'EXperimental LogS')"
            ]
          },
          "metadata": {},
          "execution_count": 29
        },
        {
          "output_type": "display_data",
          "data": {
            "text/plain": [
              "<Figure size 500x500 with 1 Axes>"
            ],
            "image/png": "[encoded data removed]"
          },
          "metadata": {}
        }
      ]
    },
    {
      "cell_type": "markdown",
      "source": [
        "visualising the predicted data on testing vs the actual data"
      ],
      "metadata": {
        "id": "SdvwO4Qkms_u"
      }
    },
    {
      "cell_type": "code",
      "source": [
        "import matplotlib.pyplot as plt\n",
        "import numpy as np\n",
        "plt.figure(figsize = (5,5))\n",
        "plt.scatter(x=y_test, y = y_rf_test_pred,c = \"#7CFC00\", alpha=0.3)\n",
        "#alpha helps in color change so that overlapper is more darker\n",
        "Z=np.polyfit(y_test, y_rf_test_pred,1)\n",
        "p=np.poly1d(Z)\n",
        "plt.plot(y_test, p(y_test), '#F8766D')\n",
        "plt.ylabel(\"predict LogS\")\n",
        "plt.xlabel(\"EXperimental LogS\")"
      ],
      "metadata": {
        "colab": {
          "base_uri": "https://localhost:8080/",
          "height": 482
        },
        "id": "FYJlDl1ClVPz",
        "outputId": "67e99762-a080-4d1b-8a2d-ad77fe17344b"
      },
      "execution_count": 30,
      "outputs": [
        {
          "output_type": "execute_result",
          "data": {
            "text/plain": [
              "Text(0.5, 0, 'EXperimental LogS')"
            ]
          },
          "metadata": {},
          "execution_count": 30
        },
        {
          "output_type": "display_data",
          "data": {
            "text/plain": [
              "<Figure size 500x500 with 1 Axes>"
            ],
            "image/png": "[encoded data removed]"
          },
          "metadata": {}
        }
      ]
    }
  ]
}